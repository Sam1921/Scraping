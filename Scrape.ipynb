{
 "cells": [
  {
   "cell_type": "markdown",
   "metadata": {},
   "source": [
    "# WEB Scraping libraries"
   ]
  },
  {
   "cell_type": "code",
   "execution_count": 1,
   "metadata": {},
   "outputs": [
    {
     "name": "stdout",
     "output_type": "stream",
     "text": [
      "Requirement already satisfied: requests in c:\\users\\lenovo\\anaconda3\\lib\\site-packages (2.24.0)\n",
      "Requirement already satisfied: urllib3!=1.25.0,!=1.25.1,<1.26,>=1.21.1 in c:\\users\\lenovo\\anaconda3\\lib\\site-packages (from requests) (1.25.9)\n",
      "Requirement already satisfied: chardet<4,>=3.0.2 in c:\\users\\lenovo\\anaconda3\\lib\\site-packages (from requests) (3.0.4)\n",
      "Requirement already satisfied: certifi>=2017.4.17 in c:\\users\\lenovo\\anaconda3\\lib\\site-packages (from requests) (2020.6.20)\n",
      "Requirement already satisfied: idna<3,>=2.5 in c:\\users\\lenovo\\anaconda3\\lib\\site-packages (from requests) (2.10)\n",
      "Note: you may need to restart the kernel to use updated packages.\n"
     ]
    }
   ],
   "source": [
    "#pip install requests"
   ]
  },
  {
   "cell_type": "code",
   "execution_count": 2,
   "metadata": {},
   "outputs": [
    {
     "name": "stdout",
     "output_type": "stream",
     "text": [
      "Requirement already satisfied: bs4 in c:\\users\\lenovo\\anaconda3\\lib\\site-packages (0.0.1)\n",
      "Requirement already satisfied: beautifulsoup4 in c:\\users\\lenovo\\anaconda3\\lib\\site-packages (from bs4) (4.9.1)\n",
      "Requirement already satisfied: soupsieve>1.2 in c:\\users\\lenovo\\anaconda3\\lib\\site-packages (from beautifulsoup4->bs4) (2.0.1)\n",
      "Note: you may need to restart the kernel to use updated packages.\n"
     ]
    }
   ],
   "source": [
    "#pip install bs4"
   ]
  },
  {
   "cell_type": "code",
   "execution_count": 3,
   "metadata": {},
   "outputs": [
    {
     "name": "stdout",
     "output_type": "stream",
     "text": [
      "Requirement already satisfied: html5lib in c:\\users\\lenovo\\anaconda3\\lib\\site-packages (1.1)\n",
      "Requirement already satisfied: six>=1.9 in c:\\users\\lenovo\\anaconda3\\lib\\site-packages (from html5lib) (1.15.0)\n",
      "Requirement already satisfied: webencodings in c:\\users\\lenovo\\anaconda3\\lib\\site-packages (from html5lib) (0.5.1)\n",
      "Note: you may need to restart the kernel to use updated packages.\n"
     ]
    }
   ],
   "source": [
    "#pip install html5lib"
   ]
  },
  {
   "cell_type": "code",
   "execution_count": 280,
   "metadata": {},
   "outputs": [],
   "source": [
    "import requests\n",
    "import pandas as pd\n",
    "pd.set_option('display.max_rows', None)\n",
    "from bs4 import BeautifulSoup\n",
    "import time\n",
    "import random\n",
    "from tqdm import tqdm"
   ]
  },
  {
   "cell_type": "markdown",
   "metadata": {},
   "source": [
    "# Wikipedia headers"
   ]
  },
  {
   "cell_type": "code",
   "execution_count": 1,
   "metadata": {},
   "outputs": [],
   "source": [
    "def display_wiki_headers(url):\n",
    "    #url = 'https://en.wikipedia.org/wiki/Main_Page'\n",
    "    r = requests.get (url)\n",
    "    htmlContent = r.content\n",
    "    soup = BeautifulSoup(htmlContent, 'html.parser')\n",
    "    for i in soup.find_all(\"h2\"):\n",
    "        print(i.text)"
   ]
  },
  {
   "cell_type": "code",
   "execution_count": 6,
   "metadata": {},
   "outputs": [
    {
     "name": "stdout",
     "output_type": "stream",
     "text": [
      "From today's featured article\n",
      "Did you know ...\n",
      "In the news\n",
      "On this day\n",
      "Today's featured picture\n",
      "Other areas of Wikipedia\n",
      "Wikipedia's sister projects\n",
      "Wikipedia languages\n",
      "Navigation menu\n"
     ]
    }
   ],
   "source": [
    "display_wiki_headers(\"https://en.wikipedia.org/wiki/Main_Page\")"
   ]
  },
  {
   "cell_type": "markdown",
   "metadata": {},
   "source": [
    "# IMDB Top 100 movies"
   ]
  },
  {
   "cell_type": "code",
   "execution_count": 56,
   "metadata": {},
   "outputs": [],
   "source": [
    "def get_top_100_imdb_movies(url):\n",
    "    #url = 'https://www.imdb.com/search/title/?groups=top_100&start=1'\n",
    "    r = requests.get (url)\n",
    "    htmlContent = r.content\n",
    "    soup = BeautifulSoup(htmlContent, 'html.parser')\n",
    "    \n",
    "    rating = []\n",
    "    name = []\n",
    "    year = []\n",
    "    for i in soup.find_all(\"div\",{\"class\":\"inline-block ratings-imdb-rating\"}):\n",
    "        rating.append(i.find('strong').text)\n",
    "    for i in soup.find_all(\"h3\",{\"class\":\"lister-item-header\"}):\n",
    "        name.append(i.find(\"a\").text)\n",
    "        year.append(i.find(\"span\",{\"class\":\"lister-item-year text-muted unbold\"}).text.replace(\")\",\"\").replace(\"(\",\"\"))\n",
    "    df = pd.DataFrame({\"Movie_Name\":name,\"Year\":year,\"Rating\":rating})\n",
    "    if len(df) < 100:\n",
    "        url = url+\"&start=\"+str(100-len(df)+1)\n",
    "        r = requests.get (url)\n",
    "        htmlContent = r.content\n",
    "        soup = BeautifulSoup(htmlContent, 'html.parser')\n",
    "\n",
    "        rating = []\n",
    "        name = []\n",
    "        year = []\n",
    "        for i in soup.find_all(\"div\",{\"class\":\"inline-block ratings-imdb-rating\"}):\n",
    "            rating.append(i.find('strong').text)\n",
    "        for i in soup.find_all(\"h3\",{\"class\":\"lister-item-header\"}):\n",
    "            name.append(i.find(\"a\").text)\n",
    "            year.append(i.find(\"span\",{\"class\":\"lister-item-year text-muted unbold\"}).text.replace(\")\",\"\").replace(\"(\",\"\"))\n",
    "        df = df.append(pd.DataFrame({\"Movie_Name\":name,\"Year\":year,\"Rating\":rating}))\n",
    "        \n",
    "    df.to_csv(\"Imdb_top_100_movie_list.csv\",index=False)\n",
    "    \n",
    "    \n",
    "    print(df.reset_index())"
   ]
  },
  {
   "cell_type": "code",
   "execution_count": 57,
   "metadata": {},
   "outputs": [
    {
     "name": "stdout",
     "output_type": "stream",
     "text": [
      "    index                                         Movie_Name    Year Rating\n",
      "0       0                                  Avengers: Endgame    2019    8.4\n",
      "1       1                                       Gisaengchung    2019    8.6\n",
      "2       2                           The Shawshank Redemption    1994    9.3\n",
      "3       3                                      The Godfather    1972    9.2\n",
      "4       4                                              Joker    2019    8.4\n",
      "5       5                                          Inception    2010    8.8\n",
      "6       6                                    The Dark Knight    2008    9.0\n",
      "7       7                                       Interstellar    2014    8.6\n",
      "8       8                                          Star Wars    1977    8.6\n",
      "9       9  The Lord of the Rings: The Fellowship of the Ring    2001    8.8\n",
      "10     10                           The Silence of the Lambs    1991    8.6\n",
      "11     11                                 Back to the Future    1985    8.5\n",
      "12     12                             Avengers: Infinity War    2018    8.4\n",
      "13     13                                       Pulp Fiction    1994    8.9\n",
      "14     14                                Saving Private Ryan    1998    8.6\n",
      "15     15                                   Django Unchained    2012    8.4\n",
      "16     16                                   Schindler's List    1993    8.9\n",
      "17     17                                       12 Angry Men    1957    9.0\n",
      "18     18                               Inglourious Basterds    2009    8.3\n",
      "19     19                              The Dark Knight Rises    2012    8.4\n",
      "20     20                                         The Matrix    1999    8.7\n",
      "21     21                  Spider-Man: Into the Spider-Verse    2018    8.4\n",
      "22     22                                              Alien    1979    8.4\n",
      "23     23                                       Citizen Kane    1941    8.3\n",
      "24     24                                       Forrest Gump    1994    8.8\n",
      "25     25                                       The Departed    2006    8.5\n",
      "26     26                                         Fight Club    1999    8.8\n",
      "27     27                                         Goodfellas    1990    8.7\n",
      "28     28                                          Gladiator    2000    8.5\n",
      "29     29                                           Whiplash    2014    8.5\n",
      "30     30                                       The Prestige    2006    8.5\n",
      "31     31                                        The Shining    1980    8.4\n",
      "32     32                                              Se7en    1995    8.6\n",
      "33     33      The Lord of the Rings: The Return of the King    2003    8.9\n",
      "34     34                                           Hamilton    2020    8.5\n",
      "35     35                                               Léon    1994    8.5\n",
      "36     36                                     The Green Mile    1999    8.6\n",
      "37     37                                             Jagten    2012    8.3\n",
      "38     38                                             Aliens    1986    8.3\n",
      "39     39                                Requiem for a Dream    2000    8.3\n",
      "40     40         Star Wars: Episode VI - Return of the Jedi    1983    8.3\n",
      "41     41     Star Wars: Episode V - The Empire Strikes Back    1980    8.7\n",
      "42     42                                  Good Will Hunting    1997    8.3\n",
      "43     43                            Raiders of the Lost Ark    1981    8.4\n",
      "44     44                                    American Beauty    1999    8.3\n",
      "45     45                                            Memento    2000    8.4\n",
      "46     46                         Terminator 2: Judgment Day    1991    8.5\n",
      "47     47                             The Godfather: Part II    1974    9.0\n",
      "48     48                                     Apocalypse Now    1979    8.4\n",
      "49     49                                               Coco  I 2017    8.4\n",
      "50      0                                         Braveheart    1995    8.3\n",
      "51      1                      Sen to Chihiro no kamikakushi    2001    8.6\n",
      "52      2                                 The Usual Suspects    1995    8.5\n",
      "53      3                    One Flew Over the Cuckoo's Nest    1975    8.7\n",
      "54      4                                        The Pianist    2002    8.5\n",
      "55      5              The Lord of the Rings: The Two Towers    2002    8.7\n",
      "56      6                                      The Lion King    1994    8.5\n",
      "57      7              Eternal Sunshine of the Spotless Mind    2004    8.3\n",
      "58      8                              2001: A Space Odyssey    1968    8.3\n",
      "59      9                    Il buono, il brutto, il cattivo    1966    8.8\n",
      "60     10                                     Cidade de Deus    2002    8.6\n",
      "61     11                                           Oldeuboi    2003    8.4\n",
      "62     12                                       Idi i smotri    1985    8.3\n",
      "63     13                                     Reservoir Dogs    1992    8.3\n",
      "64     14                                   The Intouchables    2011    8.5\n",
      "65     15                                    La vita è bella    1997    8.6\n",
      "66     16                                     Kimi no na wa.    2016    8.4\n",
      "67     17                                             Psycho    1960    8.5\n",
      "68     18                        Once Upon a Time in America    1984    8.4\n",
      "69     19                                 American History X    1998    8.5\n",
      "70     20                                            Amadeus    1984    8.3\n",
      "71     21                                           3 Idiots    2009    8.4\n",
      "72     22                                     Hotaru no haka    1988    8.5\n",
      "73     23                                         Capharnaüm    2018    8.4\n",
      "74     24                                         Casablanca    1942    8.5\n",
      "75     25                                          Toy Story    1995    8.3\n",
      "76     26                                The Lives of Others    2006    8.4\n",
      "77     27                                             WALL·E    2008    8.4\n",
      "78     28                       Once Upon a Time in the West    1968    8.5\n",
      "79     29                                        Rear Window    1954    8.5\n",
      "80     30                                            Vertigo    1958    8.3\n",
      "81     31                               Shichinin no samurai    1954    8.6\n",
      "82     32  Dr. Strangelove or: How I Learned to Stop Worr...    1964    8.4\n",
      "83     33                                      Mononoke-hime    1997    8.4\n",
      "84     34                              Nuovo Cinema Paradiso    1988    8.5\n",
      "85     35                              It's a Wonderful Life    1946    8.6\n",
      "86     36                                 North by Northwest    1959    8.3\n",
      "87     37                                           Das Boot    1981    8.3\n",
      "88     38                                Singin' in the Rain    1952    8.3\n",
      "89     39                                       Sunset Blvd.    1950    8.4\n",
      "90     40                                            Seppuku    1962    8.6\n",
      "91     41                        Witness for the Prosecution    1957    8.4\n",
      "92     42                                   Taare Zameen Par    2007    8.4\n",
      "93     43                                     Paths of Glory    1957    8.4\n",
      "94     44                  M - Eine Stadt sucht einen Mörder    1931    8.3\n",
      "95     45                                       Modern Times    1936    8.5\n",
      "96     46                                Ladri di biciclette    1948    8.3\n",
      "97     47                                 The Great Dictator    1940    8.4\n",
      "98     48                                  Tengoku to jigoku    1963    8.4\n",
      "99     49                                        City Lights    1931    8.5\n"
     ]
    }
   ],
   "source": [
    "get_top_100_imdb_movies(\"https://www.imdb.com/search/title/?groups=top_100\")"
   ]
  },
  {
   "cell_type": "markdown",
   "metadata": {},
   "source": [
    "# IMDB Top 100 Indian Movies"
   ]
  },
  {
   "cell_type": "code",
   "execution_count": 72,
   "metadata": {},
   "outputs": [],
   "source": [
    "def get_imdb_top_100_indian_movies(url):\n",
    "    #url = 'https://www.imdb.com/india/top-rated-indian-movies/'\n",
    "    r = requests.get (url)\n",
    "    htmlContent = r.content\n",
    "    soup = BeautifulSoup(htmlContent, 'html.parser')\n",
    "    rating = []\n",
    "    name = []\n",
    "    year = []\n",
    "    for j in soup.find_all(\"td\",{\"class\":\"ratingColumn imdbRating\"}):\n",
    "        rating.append(j.find(\"strong\").text)\n",
    "    for i in soup.find_all(\"td\",{\"class\":\"titleColumn\"}):\n",
    "        name.append(i.find(\"a\").text)\n",
    "        year.append(i.find(\"span\",{\"class\":\"secondaryInfo\"}).text.replace(\")\",\"\").replace(\"(\",\"\"))\n",
    "    df = pd.DataFrame({\"Movie_Name\":name,\"Year\":year,\"Rating\":rating})\n",
    "    df.iloc[:100].to_csv(\"Imdb_top_100_indian_movie_list.csv\",index=False)\n",
    "    print(df.iloc[:100])"
   ]
  },
  {
   "cell_type": "code",
   "execution_count": 73,
   "metadata": {},
   "outputs": [
    {
     "name": "stdout",
     "output_type": "stream",
     "text": [
      "                           Movie_Name  Year Rating\n",
      "0                     Pather Panchali  1955    8.5\n",
      "1                             Nayakan  1987    8.5\n",
      "2                            Gol Maal  1979    8.5\n",
      "3                          Anbe Sivam  2003    8.5\n",
      "4                         Apur Sansar  1959    8.5\n",
      "5                   C/o Kancharapalem  2018    8.5\n",
      "6                          Drishyam 2  2021    8.5\n",
      "7                   Pariyerum Perumal  2018    8.5\n",
      "8                            Kireedam  1989    8.4\n",
      "9                           Natsamrat  2016    8.4\n",
      "10                   Manichitrathazhu  1993    8.4\n",
      "11                       Black Friday  2004    8.4\n",
      "12                                 96  2018    8.4\n",
      "13                       Thevar Magan  1992    8.4\n",
      "14                  Kumbalangi Nights  2019    8.4\n",
      "15                           3 Idiots  2009    8.3\n",
      "16                         Visaaranai  2015    8.3\n",
      "17                   Taare Zameen Par  2007    8.3\n",
      "18                           Ratsasan  2018    8.3\n",
      "19                             Jersey  2019    8.3\n",
      "20                             Dangal  2016    8.3\n",
      "21                         Thalapathi  1991    8.3\n",
      "22                          Aparajito  1956    8.3\n",
      "23                             Asuran  2019    8.3\n",
      "24                 Jaane Bhi Do Yaaro  1983    8.3\n",
      "25                             Kaithi  2019    8.3\n",
      "26                    Soorarai Pottru  2020    8.3\n",
      "27                             Pyaasa  1957    8.3\n",
      "28                              Guide  1965    8.3\n",
      "29              Kannathil Muthamittal  2002    8.2\n",
      "30                            Peranbu  2018    8.2\n",
      "31                       Vada Chennai  2018    8.2\n",
      "32                       Thani Oruvan  2015    8.2\n",
      "33                      Chupke Chupke  1975    8.2\n",
      "34                             Iruvar  1997    8.2\n",
      "35                       Vikram Vedha  2017    8.2\n",
      "36                              Aruvi  2016    8.2\n",
      "37        Agent Sai Srinivasa Athreya  2019    8.2\n",
      "38                           Drishyam  2013    8.2\n",
      "39                       Super Deluxe  2019    8.2\n",
      "40                  Khosla Ka Ghosla!  2006    8.2\n",
      "41                           Mahanati  2018    8.2\n",
      "42                              Anand  1971    8.2\n",
      "43                            Tumbbad  2018    8.2\n",
      "44                       Pudhu Pettai  2006    8.2\n",
      "45                             Premam  2015    8.2\n",
      "46                     Kaakkaa Muttai  2014    8.2\n",
      "47                          Andhadhun  2018    8.2\n",
      "48             Dhuruvangal Pathinaaru  2016    8.2\n",
      "49                            Anniyan  2005    8.2\n",
      "50                     Bangalore Days  2014    8.2\n",
      "51                          Mudhalvan  1999    8.2\n",
      "52                              Satya  1998    8.2\n",
      "53                          Papanasam  2015    8.2\n",
      "54                             Shahid  2012    8.2\n",
      "55                      Soodhu Kavvum  2013    8.2\n",
      "56                        Jigarthanda  2014    8.1\n",
      "57                         Pithamagan  2003    8.1\n",
      "58                             Sairat  2016    8.1\n",
      "59                 Gangs of Wasseypur  2012    8.1\n",
      "60                   Paan Singh Tomar  2012    8.1\n",
      "61                 Bhaag Milkha Bhaag  2013    8.1\n",
      "62                             Talvar  2015    8.1\n",
      "63                              Black  2005    8.1\n",
      "64                 Nil Battey Sannata  2015    8.1\n",
      "65                             Sholay  1975    8.1\n",
      "66                          Charulata  1964    8.1\n",
      "67                         Hera Pheri  2000    8.1\n",
      "68             Swades: We, the People  2004    8.1\n",
      "69                     Chak De! India  2007    8.1\n",
      "70                        Ustad Hotel  2012    8.1\n",
      "71             Jo Jeeta Wohi Sikandar  1992    8.1\n",
      "72                      Mughal-E-Azam  1960    8.1\n",
      "73                         Article 15  2019    8.1\n",
      "74                           Drishyam  2015    8.1\n",
      "75           Zindagi Na Milegi Dobara  2011    8.1\n",
      "76                              Udaan  2010    8.1\n",
      "77            Maheshinte Prathikaaram  2016    8.1\n",
      "78                              Queen  2013    8.1\n",
      "79                        A Wednesday  2008    8.1\n",
      "80                             Masaan  2015    8.1\n",
      "81           Theeran adhigaaram ondru  2017    8.1\n",
      "82                          Sarfarosh  1999    8.1\n",
      "83                Munna Bhai M.B.B.S.  2003    8.1\n",
      "84                      Alai Payuthey  2000    8.1\n",
      "85                               Roja  1992    8.1\n",
      "86                     Dil Chahta Hai  2001    8.1\n",
      "87                    OMG: Oh My God!  2012    8.1\n",
      "88                    Rang De Basanti  2006    8.1\n",
      "89                             Baasha  1995    8.1\n",
      "90                            Kahaani  2012    8.1\n",
      "91  Lagaan: Once Upon a Time in India  2001    8.1\n",
      "92                    Andaz Apna Apna  1994    8.1\n",
      "93                                 PK  2014    8.1\n",
      "94           Uri: The Surgical Strike  2018    8.1\n",
      "95                              Iqbal  2005    8.1\n",
      "96                         Chhichhore  2019    8.1\n",
      "97                              Lucia  2013    8.1\n",
      "98                         Bommarillu  2006    8.0\n",
      "99         The Legend of Bhagat Singh  2002    8.0\n"
     ]
    }
   ],
   "source": [
    "get_imdb_top_100_indian_movies(\"https://www.imdb.com/india/top-rated-indian-movies/\")"
   ]
  },
  {
   "cell_type": "markdown",
   "metadata": {},
   "source": [
    "# Bookpage.com"
   ]
  },
  {
   "cell_type": "code",
   "execution_count": 124,
   "metadata": {},
   "outputs": [],
   "source": [
    "def get_book_info(url):\n",
    "    #url = 'https://bookpage.com/reviews'\n",
    "    r = requests.get(url)\n",
    "    htmlContent = r.content\n",
    "    soup = BeautifulSoup(htmlContent, 'html.parser')\n",
    "    name, author, genre, review = [], [], [], []\n",
    "    for i in soup.find_all(\"div\",{\"class\":\"row-fluid article-row\"}):\n",
    "        name.append(i.find_all(\"a\")[1].text.replace(\" ★ \",\"\"))\n",
    "        author.append(i.find_all(\"p\")[0].text.replace(\"\\n\",\"\"))\n",
    "        genre.append(i.find_all(\"a\")[2].text)\n",
    "        review_url = \"https://bookpage.com\"+i.find_all(\"a\")[0][\"href\"]\n",
    "        r1 = requests.get(review_url)\n",
    "        htmlContent1 = r1.content\n",
    "        soup1 = BeautifulSoup(htmlContent1, 'html.parser')\n",
    "        review.append(soup1.find(\"div\",{\"class\":\"article-body\"}).text.replace(\"\\n\",\" \").replace(\"\\xa0\",\"\"))\n",
    "    df = pd.DataFrame({\"Book_Name\":name,\"Author\":author,\"Genre\":genre,\"Review\":review})\n",
    "    df.iloc[:5].to_csv(\"Bookpage_book_list.csv\",index=False)\n",
    "    print(df.iloc[:5])"
   ]
  },
  {
   "cell_type": "code",
   "execution_count": 125,
   "metadata": {},
   "outputs": [
    {
     "name": "stdout",
     "output_type": "stream",
     "text": [
      "                   Book_Name                         Author       Genre  \\\n",
      "0  A Special Place for Women                   Laura Hankin     Fiction   \n",
      "1                   Not Yeti  Kelly DiPucchio, Claire Keane  Children's   \n",
      "2                   The Plot            Jean Hanff Korelitz     Fiction   \n",
      "3             Notes on Grief       Chimamanda Ngozi Adichie  Nonfiction   \n",
      "4         Out of the Shadows               Emily Midorikawa  Nonfiction   \n",
      "\n",
      "                                              Review  \n",
      "0    Laura Hankin’s A Special Place for Women has...  \n",
      "1    A softhearted, cyan-colored creature, Yeti r...  \n",
      "2    Not every 350-page novel can be torn through...  \n",
      "3    What is the shape of grief? For writer Chima...  \n",
      "4    Spirit mediums have been capturing imaginati...  \n"
     ]
    }
   ],
   "source": [
    "get_book_info('https://bookpage.com/reviews')"
   ]
  },
  {
   "cell_type": "markdown",
   "metadata": {},
   "source": [
    "# ICC-Cricket.com"
   ]
  },
  {
   "cell_type": "code",
   "execution_count": 181,
   "metadata": {},
   "outputs": [],
   "source": [
    "def get_team_ranking(url):\n",
    "    r = requests.get(url)\n",
    "    htmlContent = r.content\n",
    "    soup = BeautifulSoup(htmlContent, 'html.parser')\n",
    "    team, matches, points, ratings = [], [], [], []\n",
    "    team.append(soup.find(\"tbody\").find(\"tr\").find_all(\"span\")[1].text)\n",
    "    matches.append(soup.find(\"td\",{\"class\":\"rankings-block__banner--matches\"}).text)\n",
    "    points.append(soup.find(\"td\",{\"class\":\"rankings-block__banner--points\"}).text.replace(\",\",\"\"))\n",
    "    ratings.append(soup.find(\"td\",{\"class\":\"rankings-block__banner--rating u-text-right\"}).text.strip())\n",
    "    \n",
    "    for i in soup.find_all(\"tr\",{\"class\":\"table-body\"}):\n",
    "        team.append(i.find_all(\"span\")[1].text)\n",
    "    for i in soup.find_all(\"tr\",{\"class\":\"table-body\"}):\n",
    "        matches.append(i.find_all(\"td\")[2].text)\n",
    "        points.append(i.find_all(\"td\")[3].text.replace(\",\",\"\"))\n",
    "        ratings.append(i.find_all(\"td\")[4].text)\n",
    "    \n",
    "    df = pd.DataFrame({\"TEAM\":team,\"MATCHES\":matches,\"POINTS\":points,\"RATING\":ratings})\n",
    "    \n",
    "    print(df.iloc[:10]) "
   ]
  },
  {
   "cell_type": "markdown",
   "metadata": {},
   "source": [
    "## Women team ranking"
   ]
  },
  {
   "cell_type": "code",
   "execution_count": 182,
   "metadata": {},
   "outputs": [
    {
     "name": "stdout",
     "output_type": "stream",
     "text": [
      "           TEAM MATCHES POINTS RATING\n",
      "0     Australia      18   2955    164\n",
      "1  South Africa      24   2828    118\n",
      "2       England      17   1993    117\n",
      "3         India      20   2226    111\n",
      "4   New Zealand      21   1947     93\n",
      "5   West Indies      12   1025     85\n",
      "6      Pakistan      15   1101     73\n",
      "7    Bangladesh       5    306     61\n",
      "8     Sri Lanka      11    519     47\n",
      "9       Ireland       2     25     13\n"
     ]
    }
   ],
   "source": [
    "get_team_ranking('https://www.icc-cricket.com/rankings/womens/team-rankings/odi')"
   ]
  },
  {
   "cell_type": "markdown",
   "metadata": {},
   "source": [
    "## Men team ranking"
   ]
  },
  {
   "cell_type": "code",
   "execution_count": 183,
   "metadata": {},
   "outputs": [
    {
     "name": "stdout",
     "output_type": "stream",
     "text": [
      "           TEAM MATCHES POINTS RATING\n",
      "0   New Zealand      17   2054    121\n",
      "1     Australia      25   2945    118\n",
      "2         India      29   3344    115\n",
      "3       England      27   3100    115\n",
      "4  South Africa      20   2137    107\n",
      "5      Pakistan      24   2323     97\n",
      "6    Bangladesh      24   2157     90\n",
      "7   West Indies      27   2222     82\n",
      "8     Sri Lanka      21   1652     79\n",
      "9   Afghanistan      17   1054     62\n"
     ]
    }
   ],
   "source": [
    "get_team_ranking(\"https://www.icc-cricket.com/rankings/mens/team-rankings/odi\")"
   ]
  },
  {
   "cell_type": "code",
   "execution_count": 237,
   "metadata": {},
   "outputs": [],
   "source": [
    "def get_player_ranking(url):\n",
    "    #url = 'https://www.icc-cricket.com/rankings/mens/player-rankings/odi/batting'\n",
    "    r = requests.get(url)\n",
    "    htmlContent = r.content\n",
    "    soup = BeautifulSoup(htmlContent, 'html.parser')\n",
    "    name, team, rating = [], [], []\n",
    "    name.append(soup.find(\"tr\",{\"class\":\"rankings-block__banner\"}).find_all(\"div\")[3].text)\n",
    "    team.append(soup.find(\"tr\",{\"class\":\"rankings-block__banner\"}).find_all(\"div\")[-2].text.strip())\n",
    "    rating.append(soup.find(\"div\",{\"class\":\"rankings-block__banner--rating\"}).text)\n",
    "    \n",
    "    for i in soup.find_all(\"tr\",{\"class\":\"table-body\"}):\n",
    "        name.append(i.find(\"td\",{\"class\":\"table-body__cell rankings-table__name name\"}).find(\"a\").text)\n",
    "        team.append(i.find_all(\"span\")[-1].text)\n",
    "        rating.append(i.find_all(\"td\")[-2].text)\n",
    "    df = pd.DataFrame({\"PLAYER\":name,\"TEAM\":team,\"RATING\":rating})\n",
    "    print(df.iloc[:10])"
   ]
  },
  {
   "cell_type": "markdown",
   "metadata": {},
   "source": [
    "## Top 10 ODI Batsman Mens"
   ]
  },
  {
   "cell_type": "code",
   "execution_count": 239,
   "metadata": {},
   "outputs": [
    {
     "name": "stdout",
     "output_type": "stream",
     "text": [
      "                PLAYER TEAM RATING\n",
      "0           Babar Azam  PAK    865\n",
      "1          Virat Kohli  IND    857\n",
      "2         Rohit Sharma  IND    825\n",
      "3          Ross Taylor   NZ    801\n",
      "4          Aaron Finch  AUS    791\n",
      "5       Jonny Bairstow  ENG    785\n",
      "6         Fakhar Zaman  PAK    778\n",
      "7  Francois du Plessis   SA    778\n",
      "8         David Warner  AUS    773\n",
      "9            Shai Hope   WI    773\n"
     ]
    }
   ],
   "source": [
    "get_player_ranking(\"https://www.icc-cricket.com/rankings/mens/player-rankings/odi/batting\")"
   ]
  },
  {
   "cell_type": "markdown",
   "metadata": {},
   "source": [
    "## Top 10 ODI Bowler Mens"
   ]
  },
  {
   "cell_type": "code",
   "execution_count": 240,
   "metadata": {},
   "outputs": [
    {
     "name": "stdout",
     "output_type": "stream",
     "text": [
      "             PLAYER TEAM RATING\n",
      "0       Trent Boult   NZ    737\n",
      "1  Mujeeb Ur Rahman  AFG    708\n",
      "2        Matt Henry   NZ    691\n",
      "3    Jasprit Bumrah  IND    690\n",
      "4      Mehedi Hasan  BAN    668\n",
      "5     Kagiso Rabada   SA    666\n",
      "6      Chris Woakes  ENG    665\n",
      "7    Josh Hazlewood  AUS    660\n",
      "8       Pat Cummins  AUS    646\n",
      "9     Mohammad Amir  PAK    638\n"
     ]
    }
   ],
   "source": [
    "get_player_ranking(\"https://www.icc-cricket.com/rankings/mens/player-rankings/odi/bowling\")"
   ]
  },
  {
   "cell_type": "markdown",
   "metadata": {},
   "source": [
    "## Top 10 ODI All-rounder Womens"
   ]
  },
  {
   "cell_type": "code",
   "execution_count": 241,
   "metadata": {},
   "outputs": [
    {
     "name": "stdout",
     "output_type": "stream",
     "text": [
      "             PLAYER TEAM RATING\n",
      "0    Marizanne Kapp   SA    418\n",
      "1      Ellyse Perry  AUS    418\n",
      "2   Stafanie Taylor   WI    410\n",
      "3    Natalie Sciver  ENG    349\n",
      "4     Deepti Sharma  IND    343\n",
      "5     Jess Jonassen  AUS    307\n",
      "6  Ashleigh Gardner  AUS    252\n",
      "7  Dane van Niekerk   SA    243\n",
      "8     Sophie Devine   NZ    242\n",
      "9       Amelia Kerr   NZ    236\n"
     ]
    }
   ],
   "source": [
    "get_player_ranking(\"https://www.icc-cricket.com/rankings/womens/player-rankings/odi/all-rounder\")"
   ]
  },
  {
   "cell_type": "markdown",
   "metadata": {},
   "source": [
    "## Top 10 ODI player Womens"
   ]
  },
  {
   "cell_type": "code",
   "execution_count": 242,
   "metadata": {},
   "outputs": [
    {
     "name": "stdout",
     "output_type": "stream",
     "text": [
      "              PLAYER TEAM RATING\n",
      "0     Tammy Beaumont  ENG    765\n",
      "1        Lizelle Lee   SA    758\n",
      "2       Alyssa Healy  AUS    756\n",
      "3    Stafanie Taylor   WI    746\n",
      "4        Meg Lanning  AUS    723\n",
      "5  Amy Satterthwaite   NZ    715\n",
      "6    Smriti Mandhana  IND    710\n",
      "7        Mithali Raj  IND    709\n",
      "8     Natalie Sciver  ENG    685\n",
      "9    Laura Wolvaardt   SA    683\n"
     ]
    }
   ],
   "source": [
    "get_player_ranking(\"https://www.icc-cricket.com/rankings/womens/player-rankings/odi/batting\")"
   ]
  },
  {
   "cell_type": "markdown",
   "metadata": {},
   "source": [
    "# Amazon.com"
   ]
  },
  {
   "cell_type": "code",
   "execution_count": 453,
   "metadata": {},
   "outputs": [],
   "source": [
    "def get_amazon_product_details(url):\n",
    "    headers = {'User-Agent': 'Mozilla/5.0 (Macintosh; Intel Mac OS X 10_10_1) AppleWebKit/537.36 (KHTML, like Gecko) Chrome/39.0.2171.95 Safari/537.36'}\n",
    "    r = requests.get(url,headers=headers)\n",
    "    htmlContent = r.content\n",
    "    soup = BeautifulSoup(htmlContent, 'html.parser')\n",
    "    print(soup.find_all(\"li\",{\"class\":\"a-disabled\"}))\n",
    "    total_pages =  int(soup.find_all(\"li\",{\"class\":\"a-disabled\"})[-1].text)\n",
    "    \n",
    "    df = pd.DataFrame({\"Product_Name\":[],\"Product_Price\":[],\"Avg_Rating\":[],\"Image_URL\":[]})\n",
    "    \n",
    "    for page in tqdm(range(1,401)):\n",
    "        name, price,  image = [], [], []\n",
    "        #rating = []\n",
    "        time.sleep(random.choice(list(range(0,5))))\n",
    "        try:\n",
    "            page_url = url+\"&page=\"+str(page)\n",
    "            headers = {'User-Agent': 'Mozilla/5.0 (Macintosh; Intel Mac OS X 10_10_1) AppleWebKit/537.36 (KHTML, like Gecko) Chrome/39.0.2171.95 Safari/537.36'}\n",
    "            r = requests.get(page_url,headers=headers)\n",
    "            htmlContent = r.content\n",
    "            soup = BeautifulSoup(htmlContent, 'html.parser')\n",
    "            for i in soup.find_all(\"span\",{\"class\":\"a-size-medium a-color-base a-text-normal\"}):\n",
    "                if i.text != None:\n",
    "                    name.append(i.text)\n",
    "                else:\n",
    "                    name.append(\"None\")\n",
    "            for i in soup.find_all(\"span\",{\"class\":\"a-price-whole\"}):\n",
    "                if i.text != None:\n",
    "                    price.append(i.text.replace(\",\",\"\"))\n",
    "                else:\n",
    "                    price.append(\"None\")\n",
    "            \"\"\"\n",
    "            for i in soup.find_all(\"div\",{\"class\":\"a-row a-size-small\"}):\n",
    "                if i.find(\"i\") != None:\n",
    "                    rating.append(i.find(\"i\").text.split(\" \")[0])\n",
    "                else:\n",
    "                    rating.append(\"None\")\n",
    "            \"\"\"\n",
    "            for i in soup.find_all(\"img\",{\"class\":\"s-image\"}):\n",
    "                if i[\"src\"] != None:\n",
    "                    image.append(i[\"src\"])\n",
    "                else:\n",
    "                    image.append(\"None\")\n",
    "            df = df.append(pd.DataFrame({\"Product_Name\":name,\"Product_Price\":price[-len(name):],\"Image_URL\":image}))\n",
    "            #df = df.append(pd.DataFrame({\"Product_Name\":name,\"Product_Price\":price[-len(name):],\"Avg_Rating\":rating,\"Image_URL\":image}))\n",
    "        except Exception as e:\n",
    "            print(e)\n",
    "    \n",
    "    df.to_csv(\"Amazon_mobile_list_under_20000.csv\",index=False)"
   ]
  },
  {
   "cell_type": "code",
   "execution_count": 474,
   "metadata": {},
   "outputs": [
    {
     "name": "stdout",
     "output_type": "stream",
     "text": [
      "[]\n"
     ]
    },
    {
     "ename": "IndexError",
     "evalue": "list index out of range",
     "output_type": "error",
     "traceback": [
      "\u001b[1;31m---------------------------------------------------------------------------\u001b[0m",
      "\u001b[1;31mIndexError\u001b[0m                                Traceback (most recent call last)",
      "\u001b[1;32m<ipython-input-474-c8510a3c82ec>\u001b[0m in \u001b[0;36m<module>\u001b[1;34m\u001b[0m\n\u001b[1;32m----> 1\u001b[1;33m \u001b[0mget_amazon_product_details\u001b[0m\u001b[1;33m(\u001b[0m\u001b[1;34m\"https://www.amazon.in/s?k=mobile+phones+under+20000&i=electronics&rh=n%3A976419031%2Cn%3A1389401031%2Cn%3A1389432031%2Cn%3A1805560031&dc&qid=1620922649\"\u001b[0m\u001b[1;33m)\u001b[0m\u001b[1;33m\u001b[0m\u001b[1;33m\u001b[0m\u001b[0m\n\u001b[0m",
      "\u001b[1;32m<ipython-input-453-d74a858c40f4>\u001b[0m in \u001b[0;36mget_amazon_product_details\u001b[1;34m(url)\u001b[0m\n\u001b[0;32m      5\u001b[0m     \u001b[0msoup\u001b[0m \u001b[1;33m=\u001b[0m \u001b[0mBeautifulSoup\u001b[0m\u001b[1;33m(\u001b[0m\u001b[0mhtmlContent\u001b[0m\u001b[1;33m,\u001b[0m \u001b[1;34m'html.parser'\u001b[0m\u001b[1;33m)\u001b[0m\u001b[1;33m\u001b[0m\u001b[1;33m\u001b[0m\u001b[0m\n\u001b[0;32m      6\u001b[0m     \u001b[0mprint\u001b[0m\u001b[1;33m(\u001b[0m\u001b[0msoup\u001b[0m\u001b[1;33m.\u001b[0m\u001b[0mfind_all\u001b[0m\u001b[1;33m(\u001b[0m\u001b[1;34m\"li\"\u001b[0m\u001b[1;33m,\u001b[0m\u001b[1;33m{\u001b[0m\u001b[1;34m\"class\"\u001b[0m\u001b[1;33m:\u001b[0m\u001b[1;34m\"a-disabled\"\u001b[0m\u001b[1;33m}\u001b[0m\u001b[1;33m)\u001b[0m\u001b[1;33m)\u001b[0m\u001b[1;33m\u001b[0m\u001b[1;33m\u001b[0m\u001b[0m\n\u001b[1;32m----> 7\u001b[1;33m     \u001b[0mtotal_pages\u001b[0m \u001b[1;33m=\u001b[0m  \u001b[0mint\u001b[0m\u001b[1;33m(\u001b[0m\u001b[0msoup\u001b[0m\u001b[1;33m.\u001b[0m\u001b[0mfind_all\u001b[0m\u001b[1;33m(\u001b[0m\u001b[1;34m\"li\"\u001b[0m\u001b[1;33m,\u001b[0m\u001b[1;33m{\u001b[0m\u001b[1;34m\"class\"\u001b[0m\u001b[1;33m:\u001b[0m\u001b[1;34m\"a-disabled\"\u001b[0m\u001b[1;33m}\u001b[0m\u001b[1;33m)\u001b[0m\u001b[1;33m[\u001b[0m\u001b[1;33m-\u001b[0m\u001b[1;36m1\u001b[0m\u001b[1;33m]\u001b[0m\u001b[1;33m.\u001b[0m\u001b[0mtext\u001b[0m\u001b[1;33m)\u001b[0m\u001b[1;33m\u001b[0m\u001b[1;33m\u001b[0m\u001b[0m\n\u001b[0m\u001b[0;32m      8\u001b[0m \u001b[1;33m\u001b[0m\u001b[0m\n\u001b[0;32m      9\u001b[0m     \u001b[0mdf\u001b[0m \u001b[1;33m=\u001b[0m \u001b[0mpd\u001b[0m\u001b[1;33m.\u001b[0m\u001b[0mDataFrame\u001b[0m\u001b[1;33m(\u001b[0m\u001b[1;33m{\u001b[0m\u001b[1;34m\"Product_Name\"\u001b[0m\u001b[1;33m:\u001b[0m\u001b[1;33m[\u001b[0m\u001b[1;33m]\u001b[0m\u001b[1;33m,\u001b[0m\u001b[1;34m\"Product_Price\"\u001b[0m\u001b[1;33m:\u001b[0m\u001b[1;33m[\u001b[0m\u001b[1;33m]\u001b[0m\u001b[1;33m,\u001b[0m\u001b[1;34m\"Avg_Rating\"\u001b[0m\u001b[1;33m:\u001b[0m\u001b[1;33m[\u001b[0m\u001b[1;33m]\u001b[0m\u001b[1;33m,\u001b[0m\u001b[1;34m\"Image_URL\"\u001b[0m\u001b[1;33m:\u001b[0m\u001b[1;33m[\u001b[0m\u001b[1;33m]\u001b[0m\u001b[1;33m}\u001b[0m\u001b[1;33m)\u001b[0m\u001b[1;33m\u001b[0m\u001b[1;33m\u001b[0m\u001b[0m\n",
      "\u001b[1;31mIndexError\u001b[0m: list index out of range"
     ]
    }
   ],
   "source": [
    "get_amazon_product_details(\"https://www.amazon.in/s?k=mobile+phones+under+20000&i=electronics&rh=n%3A976419031%2Cn%3A1389401031%2Cn%3A1389432031%2Cn%3A1805560031&dc&qid=1620922649\")"
   ]
  },
  {
   "cell_type": "code",
   "execution_count": null,
   "metadata": {},
   "outputs": [],
   "source": []
  }
 ],
 "metadata": {
  "kernelspec": {
   "display_name": "Python 3",
   "language": "python",
   "name": "python3"
  },
  "language_info": {
   "codemirror_mode": {
    "name": "ipython",
    "version": 3
   },
   "file_extension": ".py",
   "mimetype": "text/x-python",
   "name": "python",
   "nbconvert_exporter": "python",
   "pygments_lexer": "ipython3",
   "version": "3.8.3"
  }
 },
 "nbformat": 4,
 "nbformat_minor": 4
}
